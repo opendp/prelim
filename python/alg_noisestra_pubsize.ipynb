{
 "cells": [
  {
   "cell_type": "markdown",
   "id": "d817c2d7-3de5-491b-a638-618e19b140ef",
   "metadata": {},
   "source": [
    "### \n",
    "Under stratified random sampling, give a zCDP CI for population mean by adding noise to stratum sums. The sample sizes are considered public. \n"
   ]
  },
  {
   "cell_type": "code",
   "execution_count": null,
   "id": "69c32ca8-69d3-4e1c-a1e3-e7157e6cf7c4",
   "metadata": {},
   "outputs": [],
   "source": [
    "def make_map_partition_meas(meas):\n",
    "    return Measurement(\n",
    "        ProductDomain(m.input_domain for m in meas),\n",
    "        ProductDomain(m.output_domain for m in meas),\n",
    "        function(|data: Vec<DI::Carrier>|{\n",
    "            output = []\n",
    "            for part, m in zip(data, meas):\n",
    "                output.append(m(part))\n",
    "            return output\n",
    "            \n",
    "        }),\n",
    "        ProductMetric(meas[0].input_metric),\n",
    "        meas[0].output_measure, \n",
    "        Privacy_Map(|d_in: MI::Distance|{\n",
    "            return max(m.map(d_in) for m in meas)\n",
    "        })\n",
    "    )                  "
   ]
  },
  {
   "cell_type": "code",
   "execution_count": null,
   "id": "718523b8-a471-46c8-a570-86c93b5e29eb",
   "metadata": {},
   "outputs": [],
   "source": [
    "def make_map_partition_trans(trans: Transformation):\n",
    "    return Transformation(\n",
    "        ProductDomain(t.input_domain for t in trans),\n",
    "        ProductDomain(t.output_domain for t in trans),\n",
    "        function(|data: Vec<DI::Carrier>|{\n",
    "            output = []\n",
    "            for part, t in zip(data, trans):\n",
    "                output.append(t(part))\n",
    "            return output\n",
    "            \n",
    "        }),\n",
    "        ProductMetric(trans.input_metric),\n",
    "        ProductMetric(trans.output_metric),\n",
    "        StabilityMap(|d_in: MI::Distance|{\n",
    "            return max(t.map(d_in) for t in trans)\n",
    "        })\n",
    "    )                  "
   ]
  },
  {
   "cell_type": "code",
   "execution_count": 2,
   "id": "8fb025df-a46b-48d5-8135-161b0dc86bd2",
   "metadata": {},
   "outputs": [
    {
     "ename": "SyntaxError",
     "evalue": "invalid syntax (285232835.py, line 9)",
     "output_type": "error",
     "traceback": [
      "\u001b[0;36m  Input \u001b[0;32mIn [2]\u001b[0;36m\u001b[0m\n\u001b[0;31m    ProductDomain<AllDomain<f64>>,\u001b[0m\n\u001b[0m                                 ^\u001b[0m\n\u001b[0;31mSyntaxError\u001b[0m\u001b[0;31m:\u001b[0m invalid syntax\n"
     ]
    }
   ],
   "source": [
    "'''\n",
    "    :param strat_sizes: the population size of each stratum\n",
    "    :param samp_sizes: sample sizes in each stratum\n",
    "    :param scale: scale of gaussian noise\n",
    "    :return private estimators for mean and variance. '''\n",
    "\n",
    "def postprocess_noisestra_pubsize(samp_sizes, strat_sizes, scale):\n",
    "    return make_postprocess(\n",
    "        ProductDomain<AllDomain<f64>>,\n",
    "        PairDomain<AllDomain<f64>, AllDomain<f64>>\n",
    "        function(|noisy_sums: Vec<f64> |{\n",
    "            weights = strat_sizes / sum(strat_sizes)\n",
    "            noisy_strat_mean = noisy_sums/sample_sizes\n",
    "            noisy_mean = sum(weights * noisy_stra_mean)\n",
    "            noisy_strta_var = (strat_sizes - samp_sizes) / strat_sizes * (noisy_strat_mean * (1 - noisy_strat_mean) + scale / samp_sizes**2) / (samp_sizes-1) + scale / n**2\n",
    "            noisy_var = sum(weights * noisy_strat_var)\n",
    "            return noisy_mean, noisy_var\n",
    "        })\n",
    "    )"
   ]
  },
  {
   "cell_type": "code",
   "execution_count": null,
   "id": "3fa150b8-2902-4a55-ab76-44547c68a8ec",
   "metadata": {},
   "outputs": [],
   "source": [
    "def make_alg_noisestra_pubsize(samp_sizes, strat_sizes, scale):\n",
    "    meas_sums = make_map_partition_meas([\n",
    "        make_sized_bound_sum(n,(0,1)) >> lipschitz_cast((0, n), TI = int, TO = float) >> make_base_gaussian(scale)\n",
    "        for n in samp_sizes])\n",
    "    return meas_sums >> postprocess_noisestra_pubsize(samp_sizes, strat_sizes, scale)"
   ]
  }
 ],
 "metadata": {
  "kernelspec": {
   "display_name": "Python 3 (ipykernel)",
   "language": "python",
   "name": "python3"
  },
  "language_info": {
   "codemirror_mode": {
    "name": "ipython",
    "version": 3
   },
   "file_extension": ".py",
   "mimetype": "text/x-python",
   "name": "python",
   "nbconvert_exporter": "python",
   "pygments_lexer": "ipython3",
   "version": "3.8.5"
  }
 },
 "nbformat": 4,
 "nbformat_minor": 5
}
