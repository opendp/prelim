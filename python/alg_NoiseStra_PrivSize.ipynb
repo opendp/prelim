{
 "cells": [
  {
   "cell_type": "markdown",
   "id": "d817c2d7-3de5-491b-a638-618e19b140ef",
   "metadata": {},
   "source": [
    "### Algorithm: NoiseStra_PrivSize\n",
    "Under stratified random sampling, give a zCDP CI for population mean by adding noise to both stratum sums and sample sizes. Thus, the sample sizes are considered private. \n"
   ]
  },
  {
   "cell_type": "code",
   "execution_count": null,
   "id": "69c32ca8-69d3-4e1c-a1e3-e7157e6cf7c4",
   "metadata": {},
   "outputs": [],
   "source": [
    "''' Same as the one in Algorithm: NoiseStra_PubSize'''\n",
    "def make_map_partition_meas(meas):\n",
    "    return Measurement(\n",
    "        ProductDomain(m.input_domain for m in meas),\n",
    "        ProductDomain(m.output_domain for m in meas),\n",
    "        function(|data: Vec<DI::Carrier>|{\n",
    "            output = []\n",
    "            for part, m in zip(data, meas):\n",
    "                output.append(m(part))\n",
    "            return output\n",
    "            \n",
    "        }),\n",
    "        ProductMetric(meas[0].input_metric),\n",
    "        meas.output_measure,\n",
    "        Privacy_Map(|d_in: MI::Distance|{\n",
    "            return max(m.map(d_in) for m in meas)\n",
    "        })\n",
    "    )                 "
   ]
  },
  {
   "cell_type": "code",
   "execution_count": null,
   "id": "718523b8-a471-46c8-a570-86c93b5e29eb",
   "metadata": {},
   "outputs": [],
   "source": [
    "'''\n",
    "    :param strat_sizes: the population size of each stratum\n",
    "    :param scale_samp_sizes: scale of gaussian noise added to sample sizes\n",
    "    :param scale_samp_sums: scale of gaussian noise added to sample sums\n",
    "    :return private estimators for mean and variance. '''\n",
    "def postprocess_noisestra_privsize(strat_sizes, scale_samp_sizes, scale_samp_sums):\n",
    "    weights = strat_sizes / sum(strat_sizes)\n",
    "    return make_postprocess(\n",
    "        VectorDomain<ProductDomain<AllDomain<f64>>>\n",
    "        VectorDomain<AllDomain<f64>>\n",
    "        \n",
    "        function(|noisy_sample_sizes_sums: Vec<Vec<f64>>) |{\n",
    "            noisy_sample_sizes, noisy_sample_sums = noisy_sample_sizes_sums\n",
    "            noisy_sample_sizes[noisy_sample_sizes < 2] = 2 \n",
    "            noisy_strat_mean = min(max(noisy_sample_sums/noisy_sample_sizes, 0), 1)\n",
    "            noisy_mean = sum(weights * noisy_stra_mean)\n",
    "            noisy_strta_var = (strat_sizes - noisy_sample_sizes) / (strat_sizes - 1) * noisy_strat_mean * (1 - noisy_strat_mean) / noisy_sample_sizes + \\ \n",
    "                              scale_samp_sums / noisy_sample_sizes ** 2 + noisy_strat_mean ** 2 * scale_samp_sizes / noisy_sample_sizes ** 2\n",
    "            noisy_var = sum(weights * noisy_strat_var)\n",
    "            return [noisy_mean, noisy_var]\n",
    "        })\n",
    "    \n"
   ]
  },
  {
   "cell_type": "code",
   "execution_count": null,
   "id": "3fa150b8-2902-4a55-ab76-44547c68a8ec",
   "metadata": {},
   "outputs": [],
   "source": [
    "def make_noisestra_privsize(strat_sizes, scale_samp_sizes, scale_samp_sums):\n",
    "    meas_sums = make_map_partition_meas([\n",
    "        make_bounded_sum((0,1)) >> lipschitz_cast((0, 2**MANTISSA_BITS), TI = int, TO = float) >> make_base_gaussian(scale_samp_sums)]\n",
    "        * len(strat_sizes))\n",
    "    \n",
    "    meas_sizes = make_map_partition_meas([\n",
    "        make_count((0,1)) >> lipschitz_cast((0, 2**MANTISSA_BITS), TI = int, TO = float) >> make_base_gaussian(scale_samp_sums)]\n",
    "        * len(strat_sizes))\n",
    "    \n",
    "    return make_basic_composition([meas_sums, meas_sizes]) >> postprocess_noisestra_privsize(strat_sizes, scale_samp_sizes, scale_samp_sums)"
   ]
  }
 ],
 "metadata": {
  "kernelspec": {
   "display_name": "Python 3 (ipykernel)",
   "language": "python",
   "name": "python3"
  },
  "language_info": {
   "codemirror_mode": {
    "name": "ipython",
    "version": 3
   },
   "file_extension": ".py",
   "mimetype": "text/x-python",
   "name": "python",
   "nbconvert_exporter": "python",
   "pygments_lexer": "ipython3",
   "version": "3.8.5"
  }
 },
 "nbformat": 4,
 "nbformat_minor": 5
}
