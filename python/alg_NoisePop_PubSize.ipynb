{
 "cells": [
  {
   "cell_type": "markdown",
   "id": "566b63a9-c949-44fb-9daf-da27a303b10a",
   "metadata": {},
   "source": [
    "### Algorithm: NoisePop_PubSize\n",
    "Under stratified random sampling, give a zCDP CI for population mean by adding noise to population mean. The sample sizes are considered public. \n"
   ]
  },
  {
   "cell_type": "code",
   "execution_count": null,
   "id": "9d7b55e9-7aaa-44be-b4bf-57dfab5265ad",
   "metadata": {},
   "outputs": [],
   "source": [
    "def make_map_partition_trans(trans: Transformation):\n",
    "    return Transformation(\n",
    "        ProductDomain(t.input_domain for t in trans),\n",
    "        ProductDomain(t.output_domain for t in trans),\n",
    "        function(|data: Vec<DI::Carrier>|{\n",
    "            output = []\n",
    "            for part, t in zip(data, trans):\n",
    "                output.append(t(part))\n",
    "            return output\n",
    "            \n",
    "        }),\n",
    "        ProductMetric(trans[0].input_metric),\n",
    "        ProductMetric(trans[0].output_metric),\n",
    "        Stability_Map(|d_in: MI::Distance|{\n",
    "            return max(t.map(d_in) for t in trans)\n",
    "        })\n",
    "    )     "
   ]
  },
  {
   "cell_type": "code",
   "execution_count": null,
   "id": "4dee569c-e986-4f01-8878-30d74d0a4758",
   "metadata": {},
   "outputs": [],
   "source": [
    "def make_lipschitz_mean(sample_sizes, strat_sizes):\n",
    "    '''\n",
    "    :param strat_sizes: the population size of each stratum\n",
    "    :param sample_sizes: sample sizes in each stratum '''\n",
    "    \n",
    "    strat_weights = strat_sizes / np.sum(strat_sizes)\n",
    "    return Transformation(\n",
    "    ProductDomain<AllDomain<f64>>, \n",
    "    AllDomain<f64>,\n",
    "    function(|samp_sums: Vec<f64>|{\n",
    "        \n",
    "        strat_means = samp_sums / sample_sizes\n",
    "        return np.sum(stra_weights * strat_means) \n",
    "    }),\n",
    "    ProductMetric<AbsoluteDistance<f64>>, \n",
    "    AbsoluteDistance<f64>,\n",
    "    Stability_Map(|d_in: AbsoluteDistance<f64>|{\n",
    "            sens = max(strat_weights / sample_sizes)\n",
    "            return d_in * sens\n",
    "        })\n",
    "    )    "
   ]
  },
  {
   "cell_type": "code",
   "execution_count": null,
   "id": "e5dec0c4-4334-40b0-82ea-29bc10acaa4c",
   "metadata": {},
   "outputs": [],
   "source": [
    "def make_lipschitz_variance(sample_sizes, strat_sizes, scale_mean):\n",
    "    '''\n",
    "    :param strat_sizes: the population size of each stratum\n",
    "    :param sample_sizes: sample sizes in each stratum \n",
    "    :param scale_mean: scale of gaussian noise added to mean'''\n",
    "        \n",
    "    strat_weights = strat_sizes / np.sum(strat_sizes)\n",
    "    return Transformation(\n",
    "    ProductDomain<AllDomain<f64>>, \n",
    "    AllDomain<f64>,\n",
    "    function(|samp_sums:Vec<f64>|{\n",
    "        \n",
    "        strat_means = samp_sums / sample_sizes\n",
    "        strat_var = (strat_sizes - sample_sizes) / strat_sizes * (strat_means * (1 - strat_means)) / (sample_sizes - 1)\n",
    "        return np.sum(strat_weights * strat_means) + scale_mean ** 2\n",
    "    }),\n",
    "    ProductMetric<AbsoluteDistance<f64>>, \n",
    "    AbsoluteDistance<f64>,\n",
    "    Stability_Map(|d_in: AbsoluteDistance<f64>|{\n",
    "            sens = max(strat_weights ** 2 * (strat_sizes - sample_sizes) / strat_sizes / (sample_sizes - 1) / sample_sizes\n",
    "            return d_in * sens\n",
    "        })\n",
    "    )    "
   ]
  },
  {
   "cell_type": "code",
   "execution_count": null,
   "id": "7aa1c793-e894-4a46-a956-8e2af920ff09",
   "metadata": {},
   "outputs": [],
   "source": [
    "def make_noisestra_pubsize(sample_sizes, strat_sizes, scale_mean, scale_var):\n",
    "    '''\n",
    "    :param strat_sizes: the population size of each stratum\n",
    "    :param sample_sizes: sample sizes in each stratum \n",
    "    :param scale_mean: scale of gaussian noise added to mean\n",
    "    :param scale_var: scale of gaussian noise added to variance\n",
    "    :return private estimators for mean and variance. '''\n",
    "        \n",
    "    trans_sums = make_map_partition_trans([\n",
    "        make_sized_bound_sum(n,(0,1)) >> lipschitz_cast((0, n), TI = int, TO = float) \n",
    "        for n in sample_sizes])\n",
    "    mean_meas = make_lipschitz_mean(sample_sizes, strat_sizes) >> make_base_gaussian(scale_mean),\n",
    "    var_meas = make_lipschitz_variance(sample_sizes, strat_sizes, scale_mean) >> make_base_gaussian(scale_var)\n",
    "    return  trans_sums >> composition([mean_meas, var_meas])"
   ]
  }
 ],
 "metadata": {
  "kernelspec": {
   "display_name": "Python 3 (ipykernel)",
   "language": "python",
   "name": "python3"
  },
  "language_info": {
   "codemirror_mode": {
    "name": "ipython",
    "version": 3
   },
   "file_extension": ".py",
   "mimetype": "text/x-python",
   "name": "python",
   "nbconvert_exporter": "python",
   "pygments_lexer": "ipython3",
   "version": "3.8.5"
  }
 },
 "nbformat": 4,
 "nbformat_minor": 5
}
